{
 "cells": [
  {
   "cell_type": "code",
   "execution_count": null,
   "id": "c860402e",
   "metadata": {},
   "outputs": [],
   "source": [
    "import unicodedata\n",
    "from sklearn.feature_extraction.text import TfidfVectorizer\n",
    "from activecleanSVM.imdb import IMDB\n",
    "\n",
    "plot_filepath, genre_filepath, yahoo_filepath = \"data/plot.list\", \"data/imdb-genres.list\", \\\n",
    "                                                \"data/ydata-ymovies-movie-content-descr-v1_0.txt\"\n",
    "\n",
    "print(\"Processing data...\")\n",
    "imdb_data_processor = IMDB(plot_filepath, genre_filepath, yahoo_filepath)\n",
    "X, Y = imdb_data_processor.get_comedy_and_horror_movie_data()\n",
    "dirty_data = (X, Y)\n",
    "dirty_indices = list(range(len(Y)))\n",
    "clean_indices = []\n",
    "indices = [dirty_indices, clean_indices]\n",
    "total_labels = []\n",
    "\n",
    "vectorizer = TfidfVectorizer(stop_words=\"english\", max_features=50000)\n",
    "text = [unicodedata.normalize(\"NFKD\", i[0] + \" \" + i[1]).encode(\"ascii\", \"ignore\") for i in X]\n",
    "vectorizer.fit_transform(text)\n",
    "print(\"Done processing\")"
   ]
  },
  {
   "cell_type": "code",
   "execution_count": null,
   "id": "28e0b019",
   "metadata": {},
   "outputs": [],
   "source": [
    "import ast\n",
    "from sklearn import svm\n",
    "from activecleanSVM.activecleanprocessor import ActiveCleanProcessor\n",
    "\n",
    "# User defined functions\n",
    "def data_to_features(data, vectorizer):\n",
    "    text = [\n",
    "        unicodedata.normalize(\"NFKD\", i[0] + \" \" + i[1]).encode(\n",
    "            \"ascii\", \"ignore\"\n",
    "        )\n",
    "        for i in data\n",
    "    ]\n",
    "\n",
    "    return vectorizer.transform(text)\n",
    "\n",
    "def process_cleaned_df(df):\n",
    "    def convertStrToList(text):\n",
    "        lst = ast.literal_eval(text)\n",
    "        assert type(lst) == list\n",
    "        return lst\n",
    "\n",
    "    df[\"Genres\"] = df[\"Genres\"].apply(lambda x: convertStrToList(x))\n",
    "    return df\n",
    "\n",
    "# User Defined Variables\n",
    "own_filepath = \"C:\\\\Users\\\\isabe\\\\OneDrive\\\\Desktop\\\\ActiveCleanFiles\\\\\"\n",
    "num_records_to_clean = 10\n",
    "batch_size = 5\n",
    "step_size = 0.1  # learning_rate\n",
    "model = svm.LinearSVC()\n",
    "\n",
    "print(\"Initialising ActiveClean...\")\n",
    "ActiveClean = ActiveCleanProcessor(model, dirty_data, indices,\n",
    "                                   batch_size, own_filepath, step_size,\n",
    "                                   vectorizer, data_to_features, process_cleaned_df)\n",
    "\n",
    "ActiveClean.start(num_records_to_clean)"
   ]
  },
  {
   "cell_type": "code",
   "execution_count": null,
   "id": "82a6cbdb",
   "metadata": {},
   "outputs": [],
   "source": [
    "print(\"Starting retraining...\")\n",
    "updated_clf, X_full, Y_full = ActiveClean.runNextIteration()\n",
    "\n",
    "#Run this cell until you reach your desired number of records cleaned\n",
    "#Clean training and test data seperate using this process"
   ]
  },
  {
   "cell_type": "code",
   "execution_count": null,
   "id": "00f59eb7",
   "metadata": {},
   "outputs": [],
   "source": []
  }
 ],
 "metadata": {
  "kernelspec": {
   "display_name": "Python 3",
   "language": "python",
   "name": "python3"
  },
  "language_info": {
   "codemirror_mode": {
    "name": "ipython",
    "version": 3
   },
   "file_extension": ".py",
   "mimetype": "text/x-python",
   "name": "python",
   "nbconvert_exporter": "python",
   "pygments_lexer": "ipython3",
   "version": "3.8.8"
  }
 },
 "nbformat": 4,
 "nbformat_minor": 5
}
